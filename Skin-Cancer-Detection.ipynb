{
 "cells": [
  {
   "cell_type": "markdown",
   "metadata": {},
   "source": [
    "## Importing Libraries"
   ]
  },
  {
   "cell_type": "code",
   "execution_count": null,
   "metadata": {},
   "outputs": [],
   "source": [
    "import os\n",
    "import cv2\n",
    "import math\n",
    "import mahotas\n",
    "import numpy as np\n",
    "import pandas as pd\n",
    "from os import listdir\n",
    "import matplotlib.pyplot as plt\n",
    "from skimage.color import rgb2gray\n",
    "\n",
    "from xgboost import XGBClassifier\n",
    "from sklearn.decomposition import PCA\n",
    "from sklearn.svm import LinearSVC,SVC\n",
    "from sklearn.metrics import confusion_matrix\n",
    "from sklearn.ensemble import RandomForestClassifier\n",
    "from sklearn.linear_model import LogisticRegression\n",
    "from sklearn.preprocessing import StandardScaler\n",
    "from sklearn.model_selection import train_test_split,GridSearchCV"
   ]
  },
  {
   "cell_type": "code",
   "execution_count": 181,
   "metadata": {},
   "outputs": [],
   "source": [
    "import warnings\n",
    "warnings.filterwarnings('ignore')"
   ]
  },
  {
   "cell_type": "markdown",
   "metadata": {},
   "source": [
    "## Processing data"
   ]
  },
  {
   "cell_type": "code",
   "execution_count": 59,
   "metadata": {},
   "outputs": [],
   "source": [
    "benign_list=listdir(\"benign\")\n",
    "malignant_list=listdir(\"malignant\")"
   ]
  },
  {
   "cell_type": "markdown",
   "metadata": {},
   "source": [
    "Resizing all images to 100x100"
   ]
  },
  {
   "cell_type": "code",
   "execution_count": 60,
   "metadata": {},
   "outputs": [
    {
     "data": {
      "text/plain": [
       "10000"
      ]
     },
     "execution_count": 60,
     "metadata": {},
     "output_type": "execute_result"
    }
   ],
   "source": [
    "img=cv2.imread(\"malignant/\"+malignant_list[0])\n",
    "img=cv2.resize(img,(100,100))\n",
    "l=list(img[:,:,0].flatten())\n",
    "len(l)"
   ]
  },
  {
   "cell_type": "code",
   "execution_count": 61,
   "metadata": {},
   "outputs": [],
   "source": [
    "def create_pixel_features(image_list,size=100) :\n",
    "    '''\n",
    "    Extracting pixel features from a given image list\n",
    "    :param image_list: list, BGR image\n",
    "    :return feature_df: Pandas DataFrame, contains pixel features of the image\n",
    "    '''\n",
    "    m=len(image_list)\n",
    "    n=(size**2)*3\n",
    "    features=np.zeros((m,n))\n",
    "    feature_df=pd.DataFrame()\n",
    "    target=[]\n",
    "    for i,(image,label) in enumerate(image_list) :\n",
    "        if label==1 :\n",
    "                image=cv2.imread(\"malignant/\"+image)\n",
    "        else :\n",
    "            image=cv2.imread(\"benign/\"+image)\n",
    "        image=cv2.resize(image,(size,size))\n",
    "        feature=list(image[:,:,0].flatten())+list(image[:,:,1].flatten())+list(image[:,:,2].flatten())\n",
    "        features[i,:]=feature\n",
    "        target.append(label)\n",
    "    for i in range(size**2) :\n",
    "        feature_df[\"pixel_\"+str(i+1) + \"_blue\"]=features[:,i]\n",
    "    for i in range(size**2,2*size**2) :\n",
    "        feature_df[\"pixel_\"+str(i+1-size**2) + \"_green\"]=features[:,i]\n",
    "    for i in range(2*size**2,3*size**2) :\n",
    "        feature_df[\"pixel_\"+str(i+1-2*size**2) + \"_red\"]=features[:,i]\n",
    "    feature_df[\"label\"]=target\n",
    "    return feature_df"
   ]
  },
  {
   "cell_type": "code",
   "execution_count": 142,
   "metadata": {},
   "outputs": [],
   "source": [
    "def create_pca_features(train_x,test_x,var_exp=0.95) :\n",
    "    '''\n",
    "    Extracting PCA features for input train and test dataframe\n",
    "    :param train_x: Pandas Dataframe, X train\n",
    "    :param test_y: Pandas Dataframe, X test\n",
    "    :return train_pca, test_pca: Pandas DataFrame, contains pca features\n",
    "    '''\n",
    "    standard_scaler=StandardScaler()\n",
    "    scaled_feature_df=standard_scaler.fit_transform(train_x)\n",
    "    scaled_feature_df_test=standard_scaler.transform(test_x)\n",
    "    pca_features=pd.DataFrame()\n",
    "    pca = PCA(n_components=var_exp) \n",
    "    train_pca=pca.fit_transform(scaled_feature_df)\n",
    "    test_pca=pca.transform(scaled_feature_df_test)\n",
    "    return train_pca,test_pca"
   ]
  },
  {
   "cell_type": "markdown",
   "metadata": {},
   "source": [
    "Getting all images ( benign and malignant in a list)"
   ]
  },
  {
   "cell_type": "code",
   "execution_count": 63,
   "metadata": {},
   "outputs": [
    {
     "data": {
      "text/plain": [
       "300"
      ]
     },
     "execution_count": 63,
     "metadata": {},
     "output_type": "execute_result"
    }
   ],
   "source": [
    "image_list=[(i,0) for i in benign_list]\n",
    "image_list=image_list+[(i,1) for i in malignant_list]\n",
    "len(image_list)"
   ]
  },
  {
   "cell_type": "markdown",
   "metadata": {},
   "source": [
    "## Pixel Models"
   ]
  },
  {
   "cell_type": "markdown",
   "metadata": {},
   "source": [
    "### Getting PCA features for all images"
   ]
  },
  {
   "cell_type": "code",
   "execution_count": 64,
   "metadata": {},
   "outputs": [
    {
     "data": {
      "text/plain": [
       "(300, 30001)"
      ]
     },
     "execution_count": 64,
     "metadata": {},
     "output_type": "execute_result"
    }
   ],
   "source": [
    "pixel_feature_df=create_pixel_features(image_list)\n",
    "pixel_feature_df.shape"
   ]
  },
  {
   "cell_type": "code",
   "execution_count": 65,
   "metadata": {},
   "outputs": [],
   "source": [
    "target=pixel_feature_df.pop(\"label\")"
   ]
  },
  {
   "cell_type": "code",
   "execution_count": 141,
   "metadata": {},
   "outputs": [],
   "source": [
    "train_x,test_x,train_y,test_y=train_test_split(pixel_feature_df,\n",
    "                            target,stratify=target,test_size=0.2)"
   ]
  },
  {
   "cell_type": "code",
   "execution_count": 143,
   "metadata": {},
   "outputs": [],
   "source": [
    "train_pca,test_pca=create_pca_features(train_x,test_x)"
   ]
  },
  {
   "cell_type": "code",
   "execution_count": 144,
   "metadata": {},
   "outputs": [
    {
     "data": {
      "text/plain": [
       "(240, 61)"
      ]
     },
     "execution_count": 144,
     "metadata": {},
     "output_type": "execute_result"
    }
   ],
   "source": [
    "train_pca.shape"
   ]
  },
  {
   "cell_type": "markdown",
   "metadata": {},
   "source": [
    "### RandomForest Model"
   ]
  },
  {
   "cell_type": "code",
   "execution_count": 145,
   "metadata": {},
   "outputs": [
    {
     "name": "stdout",
     "output_type": "stream",
     "text": [
      "0.7902777777777776\n",
      "{'max_depth': 6}\n"
     ]
    }
   ],
   "source": [
    "random_forest=RandomForestClassifier(n_estimators=300)\n",
    "parameters={'max_depth':[i for i in range(6,18)]}\n",
    "random_forest=GridSearchCV(random_forest,parameters,scoring='roc_auc',cv=5)\n",
    "random_forest.fit(train_pca,train_y)\n",
    "print(random_forest.best_score_)\n",
    "print(random_forest.best_params_)"
   ]
  },
  {
   "cell_type": "code",
   "execution_count": 146,
   "metadata": {},
   "outputs": [
    {
     "data": {
      "image/png": "[encoded data removed]",
      "text/plain": [
       "<Figure size 432x288 with 1 Axes>"
      ]
     },
     "metadata": {
      "needs_background": "light"
     },
     "output_type": "display_data"
    }
   ],
   "source": [
    "plt.scatter([i for i in range(6,18)],random_forest.cv_results_['mean_test_score'])\n",
    "plt.title(\"cross-validation accuracy vs max depth\")\n",
    "plt.xlabel(\"max depth\")\n",
    "plt.ylabel(\"cross-validation accuracy\")\n",
    "plt.savefig(\"md-rf\")"
   ]
  },
  {
   "cell_type": "markdown",
   "metadata": {},
   "source": [
    "### XGBoost Model"
   ]
  },
  {
   "cell_type": "code",
   "execution_count": 148,
   "metadata": {},
   "outputs": [
    {
     "name": "stdout",
     "output_type": "stream",
     "text": [
      "0.7722222222222223\n",
      "{'learning_rate': 0.2}\n"
     ]
    }
   ],
   "source": [
    "xgb1=XGBClassifier(n_estimators=750)\n",
    "parameters={'learning_rate':[0.2,0.4,0.6,0.8,1]}\n",
    "xgb1=GridSearchCV(xgb1,parameters,scoring='roc_auc',cv=5)\n",
    "xgb1.fit(train_pca,train_y)\n",
    "print(xgb1.best_score_)\n",
    "print(xgb1.best_params_)"
   ]
  },
  {
   "cell_type": "code",
   "execution_count": 149,
   "metadata": {},
   "outputs": [
    {
     "data": {
      "image/png": "[encoded data removed]",
      "text/plain": [
       "<Figure size 432x288 with 1 Axes>"
      ]
     },
     "metadata": {
      "needs_background": "light"
     },
     "output_type": "display_data"
    }
   ],
   "source": [
    "plt.scatter([0.2,0.4,0.6,0.8,1],xgb1.cv_results_['mean_test_score'])\n",
    "plt.title(\"cross-validation accuracy vs learning rate\")\n",
    "plt.xlabel(\"learning rate\")\n",
    "plt.ylabel(\"cross-validation accuracy\")\n",
    "plt.savefig(\"lr-xgb\")"
   ]
  },
  {
   "cell_type": "code",
   "execution_count": 150,
   "metadata": {},
   "outputs": [
    {
     "name": "stdout",
     "output_type": "stream",
     "text": [
      "0.7770833333333335\n",
      "{'max_depth': 6}\n"
     ]
    }
   ],
   "source": [
    "xgb2=XGBClassifier(n_estimators=750,learning_rate=0.2)\n",
    "parameters={'max_depth':[i for i in range(2,7)]}\n",
    "xgb2=GridSearchCV(xgb2,parameters,scoring='roc_auc',cv=5)\n",
    "xgb2.fit(train_pca,train_y)\n",
    "print(xgb2.best_score_)\n",
    "print(xgb2.best_params_)"
   ]
  },
  {
   "cell_type": "code",
   "execution_count": 151,
   "metadata": {},
   "outputs": [
    {
     "data": {
      "image/png": "[encoded data removed]",
      "text/plain": [
       "<Figure size 432x288 with 1 Axes>"
      ]
     },
     "metadata": {
      "needs_background": "light"
     },
     "output_type": "display_data"
    }
   ],
   "source": [
    "plt.scatter([i for i in range(2,7)],xgb2.cv_results_['mean_test_score'])\n",
    "plt.title(\"cross-validation accuracy vs max depth\")\n",
    "plt.xlabel(\"max depth\")\n",
    "plt.ylabel(\"cross-validation accuracy\")\n",
    "plt.savefig(\"md-xgb\")"
   ]
  },
  {
   "cell_type": "markdown",
   "metadata": {},
   "source": [
    "### Logistic Regression Model"
   ]
  },
  {
   "cell_type": "code",
   "execution_count": 178,
   "metadata": {},
   "outputs": [
    {
     "name": "stdout",
     "output_type": "stream",
     "text": [
      "0.7354166666666667\n",
      "{'C': 1}\n"
     ]
    }
   ],
   "source": [
    "lr1=LogisticRegression(solver='saga',penalty='elasticnet',l1_ratio=0.9)\n",
    "parameters={'C' : [i for i in range(1,8)]}\n",
    "lr1=GridSearchCV(lr1,parameters,scoring='roc_auc',cv=5)\n",
    "lr1.fit(train_pca,train_y)\n",
    "print(lr1.best_score_)\n",
    "print(lr1.best_params_)"
   ]
  },
  {
   "cell_type": "code",
   "execution_count": 1,
   "metadata": {},
   "outputs": [],
   "source": [
    "def get_test_accuracy(pred,test_y) :\n",
    "    '''Returns accuracy for input predictions\n",
    "    :param pred: np array of predictions\n",
    "    :param test_y: np.array of actual y values\n",
    "    :return Accuracy score\n",
    "    '''\n",
    "    i=0\n",
    "    for r in pred==test_y :\n",
    "        if r :\n",
    "            i+=1\n",
    "    return i/len(list(pred))"
   ]
  },
  {
   "cell_type": "markdown",
   "metadata": {},
   "source": [
    "Plotting the confusion matrix for RandomForest model"
   ]
  },
  {
   "cell_type": "code",
   "execution_count": 163,
   "metadata": {},
   "outputs": [
    {
     "name": "stdout",
     "output_type": "stream",
     "text": [
      "accuracy of random forest on test data is -  0.6666666666666666\n"
     ]
    },
    {
     "data": {
      "text/html": [
       "<div>\n",
       "<style scoped>\n",
       "    .dataframe tbody tr th:only-of-type {\n",
       "        vertical-align: middle;\n",
       "    }\n",
       "\n",
       "    .dataframe tbody tr th {\n",
       "        vertical-align: top;\n",
       "    }\n",
       "\n",
       "    .dataframe thead th {\n",
       "        text-align: right;\n",
       "    }\n",
       "</style>\n",
       "<table border=\"1\" class=\"dataframe\">\n",
       "  <thead>\n",
       "    <tr style=\"text-align: right;\">\n",
       "      <th>Predicted</th>\n",
       "      <th>0</th>\n",
       "      <th>1</th>\n",
       "      <th>All</th>\n",
       "    </tr>\n",
       "    <tr>\n",
       "      <th>Actual</th>\n",
       "      <th></th>\n",
       "      <th></th>\n",
       "      <th></th>\n",
       "    </tr>\n",
       "  </thead>\n",
       "  <tbody>\n",
       "    <tr>\n",
       "      <th>0</th>\n",
       "      <td>21</td>\n",
       "      <td>9</td>\n",
       "      <td>30</td>\n",
       "    </tr>\n",
       "    <tr>\n",
       "      <th>1</th>\n",
       "      <td>11</td>\n",
       "      <td>19</td>\n",
       "      <td>30</td>\n",
       "    </tr>\n",
       "    <tr>\n",
       "      <th>All</th>\n",
       "      <td>32</td>\n",
       "      <td>28</td>\n",
       "      <td>60</td>\n",
       "    </tr>\n",
       "  </tbody>\n",
       "</table>\n",
       "</div>"
      ],
      "text/plain": [
       "Predicted   0   1  All\n",
       "Actual                \n",
       "0          21   9   30\n",
       "1          11  19   30\n",
       "All        32  28   60"
      ]
     },
     "execution_count": 163,
     "metadata": {},
     "output_type": "execute_result"
    }
   ],
   "source": [
    "rf_predictions=random_forest.predict(test_pca)\n",
    "rf_test_acc=get_test_accuracy(rf_predictions,test_y)\n",
    "print(\"accuracy of random forest on test data is - \",rf_test_acc)\n",
    "df_confusion = pd.crosstab(test_y, rf_predictions, rownames=['Actual'], colnames=['Predicted'], margins=True)\n",
    "df_confusion"
   ]
  },
  {
   "cell_type": "markdown",
   "metadata": {},
   "source": [
    "Plotting the confusion matrix for XGBoost model"
   ]
  },
  {
   "cell_type": "code",
   "execution_count": 217,
   "metadata": {},
   "outputs": [
    {
     "name": "stdout",
     "output_type": "stream",
     "text": [
      "accuracy of gradient boosting on test data is -  0.6833333333333333\n"
     ]
    },
    {
     "data": {
      "text/html": [
       "<div>\n",
       "<style scoped>\n",
       "    .dataframe tbody tr th:only-of-type {\n",
       "        vertical-align: middle;\n",
       "    }\n",
       "\n",
       "    .dataframe tbody tr th {\n",
       "        vertical-align: top;\n",
       "    }\n",
       "\n",
       "    .dataframe thead th {\n",
       "        text-align: right;\n",
       "    }\n",
       "</style>\n",
       "<table border=\"1\" class=\"dataframe\">\n",
       "  <thead>\n",
       "    <tr style=\"text-align: right;\">\n",
       "      <th>Predicted</th>\n",
       "      <th>0</th>\n",
       "      <th>1</th>\n",
       "      <th>All</th>\n",
       "    </tr>\n",
       "    <tr>\n",
       "      <th>Actual</th>\n",
       "      <th></th>\n",
       "      <th></th>\n",
       "      <th></th>\n",
       "    </tr>\n",
       "  </thead>\n",
       "  <tbody>\n",
       "    <tr>\n",
       "      <th>0</th>\n",
       "      <td>21</td>\n",
       "      <td>9</td>\n",
       "      <td>30</td>\n",
       "    </tr>\n",
       "    <tr>\n",
       "      <th>1</th>\n",
       "      <td>10</td>\n",
       "      <td>20</td>\n",
       "      <td>30</td>\n",
       "    </tr>\n",
       "    <tr>\n",
       "      <th>All</th>\n",
       "      <td>31</td>\n",
       "      <td>29</td>\n",
       "      <td>60</td>\n",
       "    </tr>\n",
       "  </tbody>\n",
       "</table>\n",
       "</div>"
      ],
      "text/plain": [
       "Predicted   0   1  All\n",
       "Actual                \n",
       "0          21   9   30\n",
       "1          10  20   30\n",
       "All        31  29   60"
      ]
     },
     "execution_count": 217,
     "metadata": {},
     "output_type": "execute_result"
    }
   ],
   "source": [
    "xgb_predictions=xgb2.predict(test_pca)\n",
    "xgb_test_acc=get_test_accuracy(xgb_predictions,test_y)\n",
    "print(\"accuracy of gradient boosting on test data is - \",xgb_test_acc)\n",
    "df_confusion = pd.crosstab(test_y, xgb_predictions, rownames=['Actual'], colnames=['Predicted'], margins=True)\n",
    "df_confusion"
   ]
  },
  {
   "cell_type": "markdown",
   "metadata": {},
   "source": [
    "Plotting the confusion matrix for Logistic Regression model"
   ]
  },
  {
   "cell_type": "code",
   "execution_count": 179,
   "metadata": {},
   "outputs": [
    {
     "name": "stdout",
     "output_type": "stream",
     "text": [
      "accuracy of logistic regression on test data is -  0.6333333333333333\n"
     ]
    },
    {
     "data": {
      "text/html": [
       "<div>\n",
       "<style scoped>\n",
       "    .dataframe tbody tr th:only-of-type {\n",
       "        vertical-align: middle;\n",
       "    }\n",
       "\n",
       "    .dataframe tbody tr th {\n",
       "        vertical-align: top;\n",
       "    }\n",
       "\n",
       "    .dataframe thead th {\n",
       "        text-align: right;\n",
       "    }\n",
       "</style>\n",
       "<table border=\"1\" class=\"dataframe\">\n",
       "  <thead>\n",
       "    <tr style=\"text-align: right;\">\n",
       "      <th>Predicted</th>\n",
       "      <th>0</th>\n",
       "      <th>1</th>\n",
       "      <th>All</th>\n",
       "    </tr>\n",
       "    <tr>\n",
       "      <th>Actual</th>\n",
       "      <th></th>\n",
       "      <th></th>\n",
       "      <th></th>\n",
       "    </tr>\n",
       "  </thead>\n",
       "  <tbody>\n",
       "    <tr>\n",
       "      <th>0</th>\n",
       "      <td>17</td>\n",
       "      <td>13</td>\n",
       "      <td>30</td>\n",
       "    </tr>\n",
       "    <tr>\n",
       "      <th>1</th>\n",
       "      <td>9</td>\n",
       "      <td>21</td>\n",
       "      <td>30</td>\n",
       "    </tr>\n",
       "    <tr>\n",
       "      <th>All</th>\n",
       "      <td>26</td>\n",
       "      <td>34</td>\n",
       "      <td>60</td>\n",
       "    </tr>\n",
       "  </tbody>\n",
       "</table>\n",
       "</div>"
      ],
      "text/plain": [
       "Predicted   0   1  All\n",
       "Actual                \n",
       "0          17  13   30\n",
       "1           9  21   30\n",
       "All        26  34   60"
      ]
     },
     "execution_count": 179,
     "metadata": {},
     "output_type": "execute_result"
    }
   ],
   "source": [
    "lr_predictions=lr1.predict(test_pca)\n",
    "lr_test_acc=get_test_accuracy(lr_predictions,test_y)\n",
    "print(\"accuracy of logistic regression on test data is - \",lr_test_acc)\n",
    "df_confusion = pd.crosstab(test_y, lr_predictions, rownames=['Actual'], colnames=['Predicted'], margins=True)\n",
    "df_confusion"
   ]
  },
  {
   "cell_type": "markdown",
   "metadata": {},
   "source": [
    "## Interpretable Feature Models"
   ]
  },
  {
   "cell_type": "code",
   "execution_count": 180,
   "metadata": {},
   "outputs": [],
   "source": [
    "def extract_haralick(img):\n",
    "    \"\"\"Extract Haralick features of an image. Haralick features are texture descriptors.\n",
    "    :param img: ndarray, BGR image\n",
    "    :return feature: ndarray, contains 13 Haralick features of the image\n",
    "    \"\"\"\n",
    "\n",
    "    gray = cv2.cvtColor(img, cv2.COLOR_BGR2GRAY)\n",
    "    feature = mahotas.features.haralick(gray).mean(axis=0)\n",
    "    return feature"
   ]
  },
  {
   "cell_type": "code",
   "execution_count": null,
   "metadata": {},
   "outputs": [],
   "source": [
    "def get_1st_square(img,center) :\n",
    "    \"\"\"Extract the first bounding box which contains at least a single pixel\n",
    "    :param img: ndarray, BGR image\n",
    "    :param center: int, location of the centre\n",
    "    :return s: int, distance to move from the centre of the image to get to the boundy box edge\n",
    "    \"\"\"\n",
    "    s=1\n",
    "    while s<min(center[0],center[1]) :\n",
    "        xs=[i for i in range(center[0]-s,center[0]+s+1)]\n",
    "        ys=[i for i in range(center[1]-s,center[1]+s+1)]\n",
    "        for x in xs :\n",
    "            for y in ys :\n",
    "                if x==center[0] and y==center[1] :\n",
    "                    continue\n",
    "                if img[x][y]==0 :\n",
    "                    return s\n",
    "        s+=1   \n",
    "    return 0 "
   ]
  },
  {
   "cell_type": "code",
   "execution_count": 187,
   "metadata": {},
   "outputs": [],
   "source": [
    "def get_bounding_square(img,center,limit) :\n",
    "    \"\"\"Get the bounding square based on the center and limit\n",
    "    :param img: ndarray, BGR image\n",
    "    :param center: int, location of the centre\n",
    "    :param limit: int, edge of the image\n",
    "    :return s: int, Bounding box\n",
    "    \"\"\"\n",
    "    s=get_1st_square(img,center)\n",
    "    count=0\n",
    "    c_old=0\n",
    "    while s<min(center[0],center[1]) :\n",
    "        c_new=c_old\n",
    "        points=[]\n",
    "        for x in [center[0]-s,center[0]+s] :\n",
    "            for y in range(center[1]-s,center[1]+s+1) :\n",
    "                points.append((x,y))\n",
    "        for y in [center[1]-s,center[1]+s] :\n",
    "            for x in range(center[0]-s,center[0]+s+1) :\n",
    "                points.append((x,y))\n",
    "        points=set(points)\n",
    "        for p in points :\n",
    "            if img[p[0],p[1]]==0 :\n",
    "                c_new+=1\n",
    "        #print(c_new)\n",
    "        if c_new > c_old :\n",
    "            count=0\n",
    "        else :\n",
    "            count+=1\n",
    "        if count==limit :\n",
    "            return s\n",
    "        c_old=c_new\n",
    "        s+=1\n",
    "    return s\n",
    "\n",
    "def create_square(img,center,limit) :\n",
    "    _,thresh=cv2.threshold(img,0,255,cv2.THRESH_BINARY+cv2.THRESH_OTSU)\n",
    "    s=get_bounding_square(thresh,center,limit)\n",
    "    return s,thresh[(center[0]-s):(center[0]+s),(center[1]-s):(center[1]+s)],img[(center[0]-s):(center[0]+s),(center[1]-s):(center[1]+s)]"
   ]
  },
  {
   "cell_type": "code",
   "execution_count": 204,
   "metadata": {},
   "outputs": [],
   "source": [
    "def create_features(image_list):\n",
    "    \"\"\"Create interpretable features of an image.\n",
    "    :param image_list: list, list of images\n",
    "    :return feature_df: Pandas Dataframe, contains 22 relevant features for all images\n",
    "    \"\"\"\n",
    "    feature_df=pd.DataFrame()\n",
    "    area_feats=[]\n",
    "    perimeter_feats=[]\n",
    "    circularity_feats=[]\n",
    "    irregularity_feats=[]\n",
    "    aspect_ratio_feats=[]\n",
    "    blue_feats=[]\n",
    "    green_feats=[]\n",
    "    red_feats=[]\n",
    "    haralick_features = []\n",
    "    color_hist_features = []\n",
    "    hu_momemts_features = []\n",
    "    labels=[]\n",
    "    for image,label in image_list :\n",
    "        if '.jpg' in image :\n",
    "            if label==1 :\n",
    "                image=cv2.imread(\"malignant/\"+image)\n",
    "            else :\n",
    "                image=cv2.imread(\"benign/\"+image)\n",
    "        image=cv2.resize(image,(400,400))\n",
    "        gray=cv2.cvtColor(image, cv2.COLOR_BGR2GRAY)\n",
    "        hsv = cv2.cvtColor(image, cv2.COLOR_BGR2HSV)\n",
    "        gray = cv2.medianBlur(gray,5)\n",
    "        center=(int(gray.shape[0]/2),int(gray.shape[1]/2))\n",
    "        s,ti,oi=create_square(gray,center,2)\n",
    "        contours, hierarchy = cv2.findContours(ti, cv2.RETR_TREE, cv2.CHAIN_APPROX_NONE)\n",
    "        c = sorted(contours, key = cv2.contourArea,reverse=True)[1]\n",
    "        area=cv2.contourArea(c)\n",
    "        area_feats.append(area)\n",
    "        perimeter=cv2.arcLength(c,True)\n",
    "        perimeter_feats.append(perimeter)\n",
    "        circularity_index=4*area*math.pi/perimeter**2\n",
    "        circularity_feats.append(circularity_index)\n",
    "        irregularity_index1=perimeter/area\n",
    "        irregularity_feats.append(irregularity_index1)\n",
    "        x,y,w,h=cv2.boundingRect(c)\n",
    "        aspect_ratio=float(w)/h\n",
    "        aspect_ratio_feats.append(aspect_ratio)\n",
    "        bgr=np.array(cv2.mean(image[y:y+h,x:x+w])).astype(np.uint8)\n",
    "        blue=bgr[0]\n",
    "        green=bgr[1]\n",
    "        red=bgr[2]\n",
    "        blue_feats.append(blue)\n",
    "        green_feats.append(green)\n",
    "        red_feats.append(red)\n",
    "        labels.append(label)\n",
    "        #Extract Haralick features which carry texture information\n",
    "        haralick_feature = extract_haralick(image)\n",
    "        haralick_features.append(haralick_feature)\n",
    "    feature_df['area']=area_feats\n",
    "    feature_df['perimeter']=perimeter_feats\n",
    "    feature_df['circularity_index']=circularity_feats\n",
    "    feature_df['irregularity_index1']=irregularity_feats\n",
    "    feature_df['aspect_ratio']=aspect_ratio_feats\n",
    "    feature_df['blue']=blue_feats\n",
    "    feature_df['green']=green_feats\n",
    "    feature_df['red']=red_feats\n",
    "    #Creating Dataframe for Haralick features\n",
    "    haralick_df = pd.DataFrame(haralick_features)\n",
    "    return pd.concat([feature_df, haralick_df], axis=1)"
   ]
  },
  {
   "cell_type": "markdown",
   "metadata": {},
   "source": [
    "### Creating features for all images"
   ]
  },
  {
   "cell_type": "code",
   "execution_count": 205,
   "metadata": {},
   "outputs": [],
   "source": [
    "feature_df=create_features(image_list)"
   ]
  },
  {
   "cell_type": "code",
   "execution_count": 206,
   "metadata": {},
   "outputs": [
    {
     "data": {
      "text/html": [
       "<div>\n",
       "<style scoped>\n",
       "    .dataframe tbody tr th:only-of-type {\n",
       "        vertical-align: middle;\n",
       "    }\n",
       "\n",
       "    .dataframe tbody tr th {\n",
       "        vertical-align: top;\n",
       "    }\n",
       "\n",
       "    .dataframe thead th {\n",
       "        text-align: right;\n",
       "    }\n",
       "</style>\n",
       "<table border=\"1\" class=\"dataframe\">\n",
       "  <thead>\n",
       "    <tr style=\"text-align: right;\">\n",
       "      <th></th>\n",
       "      <th>area</th>\n",
       "      <th>perimeter</th>\n",
       "      <th>circularity_index</th>\n",
       "      <th>irregularity_index1</th>\n",
       "      <th>aspect_ratio</th>\n",
       "      <th>blue</th>\n",
       "      <th>green</th>\n",
       "      <th>red</th>\n",
       "      <th>0</th>\n",
       "      <th>1</th>\n",
       "      <th>...</th>\n",
       "      <th>3</th>\n",
       "      <th>4</th>\n",
       "      <th>5</th>\n",
       "      <th>6</th>\n",
       "      <th>7</th>\n",
       "      <th>8</th>\n",
       "      <th>9</th>\n",
       "      <th>10</th>\n",
       "      <th>11</th>\n",
       "      <th>12</th>\n",
       "    </tr>\n",
       "  </thead>\n",
       "  <tbody>\n",
       "    <tr>\n",
       "      <th>0</th>\n",
       "      <td>12158.0</td>\n",
       "      <td>517.872145</td>\n",
       "      <td>0.569675</td>\n",
       "      <td>0.042595</td>\n",
       "      <td>0.797297</td>\n",
       "      <td>144</td>\n",
       "      <td>135</td>\n",
       "      <td>144</td>\n",
       "      <td>0.001607</td>\n",
       "      <td>10.789657</td>\n",
       "      <td>...</td>\n",
       "      <td>1190.849888</td>\n",
       "      <td>0.395058</td>\n",
       "      <td>277.724359</td>\n",
       "      <td>4752.609896</td>\n",
       "      <td>7.686900</td>\n",
       "      <td>10.151408</td>\n",
       "      <td>0.000994</td>\n",
       "      <td>2.739637</td>\n",
       "      <td>-0.483277</td>\n",
       "      <td>0.999162</td>\n",
       "    </tr>\n",
       "    <tr>\n",
       "      <th>1</th>\n",
       "      <td>2617.0</td>\n",
       "      <td>201.622364</td>\n",
       "      <td>0.808977</td>\n",
       "      <td>0.077043</td>\n",
       "      <td>0.763889</td>\n",
       "      <td>175</td>\n",
       "      <td>161</td>\n",
       "      <td>171</td>\n",
       "      <td>0.003973</td>\n",
       "      <td>7.745002</td>\n",
       "      <td>...</td>\n",
       "      <td>280.145210</td>\n",
       "      <td>0.393593</td>\n",
       "      <td>359.580373</td>\n",
       "      <td>1112.835837</td>\n",
       "      <td>6.339224</td>\n",
       "      <td>8.700100</td>\n",
       "      <td>0.000940</td>\n",
       "      <td>2.587047</td>\n",
       "      <td>-0.376350</td>\n",
       "      <td>0.990417</td>\n",
       "    </tr>\n",
       "    <tr>\n",
       "      <th>2</th>\n",
       "      <td>14205.5</td>\n",
       "      <td>473.830515</td>\n",
       "      <td>0.795097</td>\n",
       "      <td>0.033355</td>\n",
       "      <td>0.701220</td>\n",
       "      <td>199</td>\n",
       "      <td>186</td>\n",
       "      <td>239</td>\n",
       "      <td>0.003893</td>\n",
       "      <td>13.530919</td>\n",
       "      <td>...</td>\n",
       "      <td>812.151117</td>\n",
       "      <td>0.383619</td>\n",
       "      <td>400.369377</td>\n",
       "      <td>3235.073548</td>\n",
       "      <td>6.581364</td>\n",
       "      <td>9.109057</td>\n",
       "      <td>0.000742</td>\n",
       "      <td>2.771257</td>\n",
       "      <td>-0.377368</td>\n",
       "      <td>0.992108</td>\n",
       "    </tr>\n",
       "    <tr>\n",
       "      <th>3</th>\n",
       "      <td>52749.0</td>\n",
       "      <td>996.229572</td>\n",
       "      <td>0.667890</td>\n",
       "      <td>0.018886</td>\n",
       "      <td>0.846416</td>\n",
       "      <td>115</td>\n",
       "      <td>109</td>\n",
       "      <td>138</td>\n",
       "      <td>0.002035</td>\n",
       "      <td>25.494681</td>\n",
       "      <td>...</td>\n",
       "      <td>2764.571781</td>\n",
       "      <td>0.381212</td>\n",
       "      <td>280.154492</td>\n",
       "      <td>11032.792441</td>\n",
       "      <td>7.791259</td>\n",
       "      <td>10.426677</td>\n",
       "      <td>0.000817</td>\n",
       "      <td>3.091104</td>\n",
       "      <td>-0.467311</td>\n",
       "      <td>0.999081</td>\n",
       "    </tr>\n",
       "    <tr>\n",
       "      <th>4</th>\n",
       "      <td>90436.5</td>\n",
       "      <td>1608.770764</td>\n",
       "      <td>0.439102</td>\n",
       "      <td>0.017789</td>\n",
       "      <td>0.796992</td>\n",
       "      <td>92</td>\n",
       "      <td>117</td>\n",
       "      <td>210</td>\n",
       "      <td>0.000830</td>\n",
       "      <td>73.241764</td>\n",
       "      <td>...</td>\n",
       "      <td>1495.851807</td>\n",
       "      <td>0.324052</td>\n",
       "      <td>309.463294</td>\n",
       "      <td>5910.165462</td>\n",
       "      <td>8.079668</td>\n",
       "      <td>11.031336</td>\n",
       "      <td>0.000554</td>\n",
       "      <td>3.316208</td>\n",
       "      <td>-0.443894</td>\n",
       "      <td>0.998955</td>\n",
       "    </tr>\n",
       "  </tbody>\n",
       "</table>\n",
       "<p>5 rows × 21 columns</p>\n",
       "</div>"
      ],
      "text/plain": [
       "      area    perimeter  circularity_index  irregularity_index1  aspect_ratio  \\\n",
       "0  12158.0   517.872145           0.569675             0.042595      0.797297   \n",
       "1   2617.0   201.622364           0.808977             0.077043      0.763889   \n",
       "2  14205.5   473.830515           0.795097             0.033355      0.701220   \n",
       "3  52749.0   996.229572           0.667890             0.018886      0.846416   \n",
       "4  90436.5  1608.770764           0.439102             0.017789      0.796992   \n",
       "\n",
       "   blue  green  red         0          1  ...            3         4  \\\n",
       "0   144    135  144  0.001607  10.789657  ...  1190.849888  0.395058   \n",
       "1   175    161  171  0.003973   7.745002  ...   280.145210  0.393593   \n",
       "2   199    186  239  0.003893  13.530919  ...   812.151117  0.383619   \n",
       "3   115    109  138  0.002035  25.494681  ...  2764.571781  0.381212   \n",
       "4    92    117  210  0.000830  73.241764  ...  1495.851807  0.324052   \n",
       "\n",
       "            5             6         7          8         9        10  \\\n",
       "0  277.724359   4752.609896  7.686900  10.151408  0.000994  2.739637   \n",
       "1  359.580373   1112.835837  6.339224   8.700100  0.000940  2.587047   \n",
       "2  400.369377   3235.073548  6.581364   9.109057  0.000742  2.771257   \n",
       "3  280.154492  11032.792441  7.791259  10.426677  0.000817  3.091104   \n",
       "4  309.463294   5910.165462  8.079668  11.031336  0.000554  3.316208   \n",
       "\n",
       "         11        12  \n",
       "0 -0.483277  0.999162  \n",
       "1 -0.376350  0.990417  \n",
       "2 -0.377368  0.992108  \n",
       "3 -0.467311  0.999081  \n",
       "4 -0.443894  0.998955  \n",
       "\n",
       "[5 rows x 21 columns]"
      ]
     },
     "execution_count": 206,
     "metadata": {},
     "output_type": "execute_result"
    }
   ],
   "source": [
    "feature_df.head()"
   ]
  },
  {
   "cell_type": "code",
   "execution_count": 207,
   "metadata": {},
   "outputs": [],
   "source": [
    "train_x1=feature_df.iloc[train_y.index]\n",
    "test_x1=feature_df.iloc[test_y.index]"
   ]
  },
  {
   "cell_type": "markdown",
   "metadata": {},
   "source": [
    "### RandomForest Model"
   ]
  },
  {
   "cell_type": "code",
   "execution_count": 210,
   "metadata": {},
   "outputs": [
    {
     "name": "stdout",
     "output_type": "stream",
     "text": [
      "0.7364583333333333\n",
      "{'max_depth': 6}\n"
     ]
    }
   ],
   "source": [
    "random_forest1=RandomForestClassifier(n_estimators=300)\n",
    "parameters={'max_depth':[i for i in range(6,18)]}\n",
    "random_forest1=GridSearchCV(random_forest1,parameters,scoring='roc_auc',cv=5)\n",
    "random_forest1.fit(train_x1,train_y)\n",
    "print(random_forest1.best_score_)\n",
    "print(random_forest1.best_params_)"
   ]
  },
  {
   "cell_type": "code",
   "execution_count": 211,
   "metadata": {},
   "outputs": [
    {
     "data": {
      "image/png": "[encoded data removed]",
      "text/plain": [
       "<Figure size 432x288 with 1 Axes>"
      ]
     },
     "metadata": {
      "needs_background": "light"
     },
     "output_type": "display_data"
    }
   ],
   "source": [
    "plt.scatter([i for i in range(6,18)],random_forest1.cv_results_['mean_test_score'])\n",
    "plt.title(\"cross-validation accuracy vs max depth\")\n",
    "plt.xlabel(\"max depth\")\n",
    "plt.ylabel(\"cross-validation accuracy\")\n",
    "plt.savefig(\"md-rf1\")"
   ]
  },
  {
   "cell_type": "markdown",
   "metadata": {},
   "source": [
    "#### RandomForest Confusion Matrix"
   ]
  },
  {
   "cell_type": "code",
   "execution_count": 212,
   "metadata": {},
   "outputs": [
    {
     "name": "stdout",
     "output_type": "stream",
     "text": [
      "accuracy of random forest on test data is -  0.7\n"
     ]
    },
    {
     "data": {
      "text/html": [
       "<div>\n",
       "<style scoped>\n",
       "    .dataframe tbody tr th:only-of-type {\n",
       "        vertical-align: middle;\n",
       "    }\n",
       "\n",
       "    .dataframe tbody tr th {\n",
       "        vertical-align: top;\n",
       "    }\n",
       "\n",
       "    .dataframe thead th {\n",
       "        text-align: right;\n",
       "    }\n",
       "</style>\n",
       "<table border=\"1\" class=\"dataframe\">\n",
       "  <thead>\n",
       "    <tr style=\"text-align: right;\">\n",
       "      <th>Predicted</th>\n",
       "      <th>0</th>\n",
       "      <th>1</th>\n",
       "      <th>All</th>\n",
       "    </tr>\n",
       "    <tr>\n",
       "      <th>Actual</th>\n",
       "      <th></th>\n",
       "      <th></th>\n",
       "      <th></th>\n",
       "    </tr>\n",
       "  </thead>\n",
       "  <tbody>\n",
       "    <tr>\n",
       "      <th>0</th>\n",
       "      <td>21</td>\n",
       "      <td>9</td>\n",
       "      <td>30</td>\n",
       "    </tr>\n",
       "    <tr>\n",
       "      <th>1</th>\n",
       "      <td>9</td>\n",
       "      <td>21</td>\n",
       "      <td>30</td>\n",
       "    </tr>\n",
       "    <tr>\n",
       "      <th>All</th>\n",
       "      <td>30</td>\n",
       "      <td>30</td>\n",
       "      <td>60</td>\n",
       "    </tr>\n",
       "  </tbody>\n",
       "</table>\n",
       "</div>"
      ],
      "text/plain": [
       "Predicted   0   1  All\n",
       "Actual                \n",
       "0          21   9   30\n",
       "1           9  21   30\n",
       "All        30  30   60"
      ]
     },
     "execution_count": 212,
     "metadata": {},
     "output_type": "execute_result"
    }
   ],
   "source": [
    "rf_predictions1=random_forest1.predict(test_x1)\n",
    "rf_test_acc=get_test_accuracy(rf_predictions1,test_y)\n",
    "print(\"accuracy of random forest on test data is - \",rf_test_acc)\n",
    "df_confusion = pd.crosstab(test_y, rf_predictions1, rownames=['Actual'], colnames=['Predicted'], margins=True)\n",
    "df_confusion"
   ]
  },
  {
   "cell_type": "markdown",
   "metadata": {},
   "source": [
    "### XGBoost Model"
   ]
  },
  {
   "cell_type": "code",
   "execution_count": 213,
   "metadata": {},
   "outputs": [
    {
     "name": "stdout",
     "output_type": "stream",
     "text": [
      "0.6753472222222221\n",
      "{'learning_rate': 0.4}\n"
     ]
    }
   ],
   "source": [
    "xgb3=XGBClassifier(n_estimators=750)\n",
    "parameters={'learning_rate':[0.2,0.4,0.6,0.8,1]}\n",
    "xgb3=GridSearchCV(xgb3,parameters,scoring='roc_auc',cv=5)\n",
    "xgb3.fit(train_x1,train_y)\n",
    "print(xgb3.best_score_)\n",
    "print(xgb3.best_params_)"
   ]
  },
  {
   "cell_type": "code",
   "execution_count": 214,
   "metadata": {},
   "outputs": [
    {
     "data": {
      "image/png": "[encoded data removed]",
      "text/plain": [
       "<Figure size 432x288 with 1 Axes>"
      ]
     },
     "metadata": {
      "needs_background": "light"
     },
     "output_type": "display_data"
    }
   ],
   "source": [
    "plt.scatter([0.2,0.4,0.6,0.8,1],xgb3.cv_results_['mean_test_score'])\n",
    "plt.title(\"cross-validation accuracy vs learning rate\")\n",
    "plt.xlabel(\"learning rate\")\n",
    "plt.ylabel(\"cross-validation accuracy\")\n",
    "plt.savefig(\"lr-xgb3\")"
   ]
  },
  {
   "cell_type": "code",
   "execution_count": 215,
   "metadata": {},
   "outputs": [
    {
     "name": "stdout",
     "output_type": "stream",
     "text": [
      "0.6895833333333333\n",
      "{'max_depth': 5}\n"
     ]
    }
   ],
   "source": [
    "xgb4=XGBClassifier(n_estimators=750,learning_rate=0.4)\n",
    "parameters={'max_depth':[i for i in range(2,7)]}\n",
    "xgb4=GridSearchCV(xgb4,parameters,scoring='roc_auc',cv=5)\n",
    "xgb4.fit(train_x1,train_y)\n",
    "print(xgb4.best_score_)\n",
    "print(xgb4.best_params_)"
   ]
  },
  {
   "cell_type": "markdown",
   "metadata": {},
   "source": [
    "#### XGBoost Confusion Matrix"
   ]
  },
  {
   "cell_type": "code",
   "execution_count": 216,
   "metadata": {},
   "outputs": [
    {
     "data": {
      "image/png": "[encoded data removed]",
      "text/plain": [
       "<Figure size 432x288 with 1 Axes>"
      ]
     },
     "metadata": {
      "needs_background": "light"
     },
     "output_type": "display_data"
    }
   ],
   "source": [
    "plt.scatter([i for i in range(2,7)],xgb4.cv_results_['mean_test_score'])\n",
    "plt.title(\"cross-validation accuracy vs max depth\")\n",
    "plt.xlabel(\"max depth\")\n",
    "plt.ylabel(\"cross-validation accuracy\")\n",
    "plt.savefig(\"md-xgb4\")"
   ]
  },
  {
   "cell_type": "code",
   "execution_count": 218,
   "metadata": {},
   "outputs": [
    {
     "name": "stdout",
     "output_type": "stream",
     "text": [
      "accuracy of gradient boosting on test data is -  0.65\n"
     ]
    },
    {
     "data": {
      "text/html": [
       "<div>\n",
       "<style scoped>\n",
       "    .dataframe tbody tr th:only-of-type {\n",
       "        vertical-align: middle;\n",
       "    }\n",
       "\n",
       "    .dataframe tbody tr th {\n",
       "        vertical-align: top;\n",
       "    }\n",
       "\n",
       "    .dataframe thead th {\n",
       "        text-align: right;\n",
       "    }\n",
       "</style>\n",
       "<table border=\"1\" class=\"dataframe\">\n",
       "  <thead>\n",
       "    <tr style=\"text-align: right;\">\n",
       "      <th>Predicted</th>\n",
       "      <th>0</th>\n",
       "      <th>1</th>\n",
       "      <th>All</th>\n",
       "    </tr>\n",
       "    <tr>\n",
       "      <th>Actual</th>\n",
       "      <th></th>\n",
       "      <th></th>\n",
       "      <th></th>\n",
       "    </tr>\n",
       "  </thead>\n",
       "  <tbody>\n",
       "    <tr>\n",
       "      <th>0</th>\n",
       "      <td>19</td>\n",
       "      <td>11</td>\n",
       "      <td>30</td>\n",
       "    </tr>\n",
       "    <tr>\n",
       "      <th>1</th>\n",
       "      <td>10</td>\n",
       "      <td>20</td>\n",
       "      <td>30</td>\n",
       "    </tr>\n",
       "    <tr>\n",
       "      <th>All</th>\n",
       "      <td>29</td>\n",
       "      <td>31</td>\n",
       "      <td>60</td>\n",
       "    </tr>\n",
       "  </tbody>\n",
       "</table>\n",
       "</div>"
      ],
      "text/plain": [
       "Predicted   0   1  All\n",
       "Actual                \n",
       "0          19  11   30\n",
       "1          10  20   30\n",
       "All        29  31   60"
      ]
     },
     "execution_count": 218,
     "metadata": {},
     "output_type": "execute_result"
    }
   ],
   "source": [
    "xgb_predictions1=xgb4.predict(test_x1)\n",
    "xgb_test_acc=get_test_accuracy(xgb_predictions1,test_y)\n",
    "print(\"accuracy of gradient boosting on test data is - \",xgb_test_acc)\n",
    "df_confusion = pd.crosstab(test_y, xgb_predictions1, rownames=['Actual'], colnames=['Predicted'], margins=True)\n",
    "df_confusion"
   ]
  }
 ],
 "metadata": {
  "kernelspec": {
   "display_name": "Python 3",
   "language": "python",
   "name": "python3"
  },
  "language_info": {
   "codemirror_mode": {
    "name": "ipython",
    "version": 3
   },
   "file_extension": ".py",
   "mimetype": "text/x-python",
   "name": "python",
   "nbconvert_exporter": "python",
   "pygments_lexer": "ipython3",
   "version": "3.7.3"
  },
  "toc": {
   "base_numbering": 1,
   "nav_menu": {},
   "number_sections": true,
   "sideBar": true,
   "skip_h1_title": false,
   "title_cell": "Table of Contents",
   "title_sidebar": "Contents",
   "toc_cell": false,
   "toc_position": {},
   "toc_section_display": true,
   "toc_window_display": true
  },
  "varInspector": {
   "cols": {
    "lenName": 16,
    "lenType": 16,
    "lenVar": 40
   },
   "kernels_config": {
    "python": {
     "delete_cmd_postfix": "",
     "delete_cmd_prefix": "del ",
     "library": "var_list.py",
     "varRefreshCmd": "print(var_dic_list())"
    },
    "r": {
     "delete_cmd_postfix": ") ",
     "delete_cmd_prefix": "rm(",
     "library": "var_list.r",
     "varRefreshCmd": "cat(var_dic_list()) "
    }
   },
   "types_to_exclude": [
    "module",
    "function",
    "builtin_function_or_method",
    "instance",
    "_Feature"
   ],
   "window_display": false
  }
 },
 "nbformat": 4,
 "nbformat_minor": 2
}
